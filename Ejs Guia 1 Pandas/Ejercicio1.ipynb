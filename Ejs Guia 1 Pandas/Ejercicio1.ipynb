{
 "cells": [
  {
   "cell_type": "code",
   "execution_count": 59,
   "metadata": {
    "pycharm": {
     "name": "#%%\n"
    },
    "scrolled": true
   },
   "outputs": [],
   "source": [
    "import pandas as pd\n"
   ]
  },
  {
   "cell_type": "markdown",
   "metadata": {
    "pycharm": {
     "name": "#%% md\n"
    }
   },
   "source": [
    "1- Dado el registro de notas de los alumnos de la forma (padrón, materia, nota, fecha). Se pide\n",
    "resolver utilizando Pandas:\n",
    "*  Cuál es el promedio general de notas.\n",
    "* Cuál es la nota más alta y la nota más baja registrada durante el año 2019.\n",
    "* Cuál es el padrón con mayor cantidad de materias aprobadas durante el último\n",
    "cuatrimestre.\n",
    "* Cuál es la nota promedio por materia.\n",
    "* Cuál es la nota promedio por padrón."
   ]
  },
  {
   "cell_type": "markdown",
   "metadata": {
    "pycharm": {
     "name": "#%% md\n"
    }
   },
   "source": [
    "*Se genero la data a traves de http://generatedata.com/*\n"
   ]
  },
  {
   "cell_type": "code",
   "execution_count": 60,
   "metadata": {
    "pycharm": {
     "name": "#%%\n"
    }
   },
   "outputs": [
    {
     "data": {
      "text/html": [
       "<div>\n",
       "<style scoped>\n",
       "    .dataframe tbody tr th:only-of-type {\n",
       "        vertical-align: middle;\n",
       "    }\n",
       "\n",
       "    .dataframe tbody tr th {\n",
       "        vertical-align: top;\n",
       "    }\n",
       "\n",
       "    .dataframe thead th {\n",
       "        text-align: right;\n",
       "    }\n",
       "</style>\n",
       "<table border=\"1\" class=\"dataframe\">\n",
       "  <thead>\n",
       "    <tr style=\"text-align: right;\">\n",
       "      <th></th>\n",
       "      <th>padron</th>\n",
       "      <th>materia</th>\n",
       "      <th>nota</th>\n",
       "      <th>fecha</th>\n",
       "    </tr>\n",
       "  </thead>\n",
       "  <tbody>\n",
       "    <tr>\n",
       "      <th>0</th>\n",
       "      <td>10338</td>\n",
       "      <td>algebra</td>\n",
       "      <td>1</td>\n",
       "      <td>17-10-19</td>\n",
       "    </tr>\n",
       "    <tr>\n",
       "      <th>1</th>\n",
       "      <td>10330</td>\n",
       "      <td>computacion</td>\n",
       "      <td>5</td>\n",
       "      <td>21-01-21</td>\n",
       "    </tr>\n",
       "    <tr>\n",
       "      <th>2</th>\n",
       "      <td>10303</td>\n",
       "      <td>computacion</td>\n",
       "      <td>9</td>\n",
       "      <td>19-10-20</td>\n",
       "    </tr>\n",
       "    <tr>\n",
       "      <th>3</th>\n",
       "      <td>10379</td>\n",
       "      <td>taller</td>\n",
       "      <td>6</td>\n",
       "      <td>07-12-20</td>\n",
       "    </tr>\n",
       "    <tr>\n",
       "      <th>4</th>\n",
       "      <td>10335</td>\n",
       "      <td>algoritmos</td>\n",
       "      <td>2</td>\n",
       "      <td>22-02-21</td>\n",
       "    </tr>\n",
       "  </tbody>\n",
       "</table>\n",
       "</div>"
      ],
      "text/plain": [
       "   padron      materia  nota     fecha\n",
       "0   10338      algebra     1  17-10-19\n",
       "1   10330  computacion     5  21-01-21\n",
       "2   10303  computacion     9  19-10-20\n",
       "3   10379       taller     6  07-12-20\n",
       "4   10335   algoritmos     2  22-02-21"
      ]
     },
     "execution_count": 60,
     "metadata": {},
     "output_type": "execute_result"
    }
   ],
   "source": [
    "# Cargo los datos encontrados\n",
    "informacion_alumnos_df = pd.read_csv('Datasets/NotasAlumnos.csv')\n",
    "informacion_alumnos_df.head()"
   ]
  },
  {
   "cell_type": "markdown",
   "metadata": {},
   "source": [
    "**Cuál es el promedio general de notas.**"
   ]
  },
  {
   "cell_type": "code",
   "execution_count": 61,
   "metadata": {
    "pycharm": {
     "name": "#%%\n"
    }
   },
   "outputs": [
    {
     "data": {
      "text/plain": [
       "5.35"
      ]
     },
     "execution_count": 61,
     "metadata": {},
     "output_type": "execute_result"
    }
   ],
   "source": [
    "informacion_alumnos_df['nota'].mean()"
   ]
  },
  {
   "cell_type": "markdown",
   "metadata": {},
   "source": [
    "**Cuál es la nota más alta y la nota más baja registrada durante el año 2019.**"
   ]
  },
  {
   "cell_type": "code",
   "execution_count": 62,
   "metadata": {},
   "outputs": [],
   "source": [
    "informacion_alumnos_df['fecha'] = pd.to_datetime(informacion_alumnos_df['fecha'])\n",
    "anio_pedido = informacion_alumnos_df['fecha'].dt.year == 2019\n",
    "notas_en_anio_s = informacion_alumnos_df.loc[anio_pedido,'nota']\n"
   ]
  },
  {
   "cell_type": "code",
   "execution_count": 63,
   "metadata": {},
   "outputs": [
    {
     "data": {
      "text/plain": [
       "8"
      ]
     },
     "execution_count": 63,
     "metadata": {},
     "output_type": "execute_result"
    }
   ],
   "source": [
    "#La nota mas alta es...\n",
    "notas_en_anio_s.max()"
   ]
  },
  {
   "cell_type": "code",
   "execution_count": 64,
   "metadata": {},
   "outputs": [
    {
     "data": {
      "text/plain": [
       "1"
      ]
     },
     "execution_count": 64,
     "metadata": {},
     "output_type": "execute_result"
    }
   ],
   "source": [
    "#La nota mas baja es...\n",
    "notas_en_anio_s.min()"
   ]
  },
  {
   "cell_type": "markdown",
   "metadata": {},
   "source": [
    "**Cuál es el padrón con mayor cantidad de materias aprobadas durante el último cuatrimestre.**"
   ]
  },
  {
   "cell_type": "code",
   "execution_count": 65,
   "metadata": {},
   "outputs": [
    {
     "data": {
      "text/plain": [
       "10375    1\n",
       "Name: padron, dtype: int64"
      ]
     },
     "execution_count": 65,
     "metadata": {},
     "output_type": "execute_result"
    }
   ],
   "source": [
    "# Un alumno esta aprobado si la nota es mayor a 4. Se considera como ultimo cuatrimestre desde 1/8/19 al 12/12/19\n",
    "\n",
    "#Busco las notas de ese cuatrimestre\n",
    "fechas_cuatrimestre = ('01-08-2019'<=informacion_alumnos_df['fecha']) & (informacion_alumnos_df['fecha']<='12-12-2019')\n",
    "aprobo = informacion_alumnos_df['nota']>=4\n",
    "#Filtro\n",
    "notas_cuatrimestre_s = informacion_alumnos_df.loc[fechas_cuatrimestre & aprobo,'padron']\n",
    "#Veo cual es el que aprobo mas\n",
    "notas_cuatrimestre_s.value_counts().nlargest(1)"
   ]
  },
  {
   "cell_type": "markdown",
   "metadata": {},
   "source": [
    "**Cuál es la nota promedio por materia.**"
   ]
  },
  {
   "cell_type": "code",
   "execution_count": 66,
   "metadata": {},
   "outputs": [
    {
     "data": {
      "text/plain": [
       "materia\n",
       "algebra        5.37\n",
       "algoritmos     5.73\n",
       "analisis       5.93\n",
       "computacion    6.15\n",
       "fisica         4.73\n",
       "numerico       4.23\n",
       "taller         5.13\n",
       "Name: nota, dtype: float64"
      ]
     },
     "execution_count": 66,
     "metadata": {},
     "output_type": "execute_result"
    }
   ],
   "source": [
    "materias_agrupadas = informacion_alumnos_df.groupby(by='materia')\n",
    "round(materias_agrupadas['nota'].mean(),2)"
   ]
  },
  {
   "cell_type": "markdown",
   "metadata": {},
   "source": [
    "**Cuál es la nota promedio por padrón.**"
   ]
  },
  {
   "cell_type": "code",
   "execution_count": 67,
   "metadata": {
    "pycharm": {
     "name": "#%%\n"
    }
   },
   "outputs": [
    {
     "data": {
      "text/html": [
       "<div>\n",
       "<style scoped>\n",
       "    .dataframe tbody tr th:only-of-type {\n",
       "        vertical-align: middle;\n",
       "    }\n",
       "\n",
       "    .dataframe tbody tr th {\n",
       "        vertical-align: top;\n",
       "    }\n",
       "\n",
       "    .dataframe thead th {\n",
       "        text-align: right;\n",
       "    }\n",
       "</style>\n",
       "<table border=\"1\" class=\"dataframe\">\n",
       "  <thead>\n",
       "    <tr style=\"text-align: right;\">\n",
       "      <th></th>\n",
       "      <th>nota</th>\n",
       "    </tr>\n",
       "    <tr>\n",
       "      <th>padron</th>\n",
       "      <th></th>\n",
       "    </tr>\n",
       "  </thead>\n",
       "  <tbody>\n",
       "    <tr>\n",
       "      <th>10300</th>\n",
       "      <td>10.0</td>\n",
       "    </tr>\n",
       "    <tr>\n",
       "      <th>10301</th>\n",
       "      <td>1.0</td>\n",
       "    </tr>\n",
       "    <tr>\n",
       "      <th>10302</th>\n",
       "      <td>4.0</td>\n",
       "    </tr>\n",
       "    <tr>\n",
       "      <th>10303</th>\n",
       "      <td>8.5</td>\n",
       "    </tr>\n",
       "    <tr>\n",
       "      <th>10304</th>\n",
       "      <td>2.0</td>\n",
       "    </tr>\n",
       "    <tr>\n",
       "      <th>...</th>\n",
       "      <td>...</td>\n",
       "    </tr>\n",
       "    <tr>\n",
       "      <th>10381</th>\n",
       "      <td>9.0</td>\n",
       "    </tr>\n",
       "    <tr>\n",
       "      <th>10382</th>\n",
       "      <td>5.0</td>\n",
       "    </tr>\n",
       "    <tr>\n",
       "      <th>10383</th>\n",
       "      <td>9.5</td>\n",
       "    </tr>\n",
       "    <tr>\n",
       "      <th>10384</th>\n",
       "      <td>3.0</td>\n",
       "    </tr>\n",
       "    <tr>\n",
       "      <th>10385</th>\n",
       "      <td>3.0</td>\n",
       "    </tr>\n",
       "  </tbody>\n",
       "</table>\n",
       "<p>61 rows × 1 columns</p>\n",
       "</div>"
      ],
      "text/plain": [
       "        nota\n",
       "padron      \n",
       "10300   10.0\n",
       "10301    1.0\n",
       "10302    4.0\n",
       "10303    8.5\n",
       "10304    2.0\n",
       "...      ...\n",
       "10381    9.0\n",
       "10382    5.0\n",
       "10383    9.5\n",
       "10384    3.0\n",
       "10385    3.0\n",
       "\n",
       "[61 rows x 1 columns]"
      ]
     },
     "execution_count": 67,
     "metadata": {},
     "output_type": "execute_result"
    }
   ],
   "source": [
    "alumnos_agrupados = informacion_alumnos_df.groupby(by='padron')\n",
    "alumnos_agrupados.mean()"
   ]
  }
 ],
 "metadata": {
  "kernelspec": {
   "display_name": "Python 3",
   "language": "python",
   "name": "python3"
  },
  "language_info": {
   "codemirror_mode": {
    "name": "ipython",
    "version": 3
   },
   "file_extension": ".py",
   "mimetype": "text/x-python",
   "name": "python",
   "nbconvert_exporter": "python",
   "pygments_lexer": "ipython3",
   "version": "3.8.3"
  }
 },
 "nbformat": 4,
 "nbformat_minor": 4
}
