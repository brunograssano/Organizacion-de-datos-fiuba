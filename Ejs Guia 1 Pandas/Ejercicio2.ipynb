{
 "cells": [
  {
   "cell_type": "markdown",
   "metadata": {},
   "source": [
    "2- Se tiene un registro de transacciones bancarias, de la forma (nro de transacción, tipo de\n",
    "transacción, cuenta origen, cuenta destino, fecha, hora, monto). Se pide resolver en Pandas:\n",
    "* Validar que todas las transacciones cuenten con un tipo de transacción.  \n",
    "* Validar que para las transacciones del tipo transferencia, exista siempre tanto cuenta origen como cuenta destino.  \n",
    "* Verificar que todas las transacciones del tipo transferencia, depósito y extracción cuenten con montos distintos de cero.  \n",
    "* Indicar cuáles fueron las 10 transacciones de mayor monto.  \n",
    "* Indicar cuál es el tipo de transacción que registra mayor monto promedio.  \n",
    "* Indicar cuáles son las 5 cuentas con mayor cantidad de transacciones.  \n",
    "* Indicar cuáles son las 5 cuentas con mayor monto involucrado.  \n",
    "* Para el tipo de transacción con mayor cantidad de monto promedio, indicar cuales son las 5 cuentas con más transacciones.  "
   ]
  },
  {
   "cell_type": "markdown",
   "metadata": {},
   "source": [
    "***Datos generados mediante http://generatedata.com/***"
   ]
  },
  {
   "cell_type": "code",
   "execution_count": 67,
   "metadata": {},
   "outputs": [],
   "source": [
    "import pandas as pd"
   ]
  },
  {
   "cell_type": "code",
   "execution_count": 68,
   "metadata": {
    "scrolled": true
   },
   "outputs": [
    {
     "data": {
      "text/html": [
       "<div>\n",
       "<style scoped>\n",
       "    .dataframe tbody tr th:only-of-type {\n",
       "        vertical-align: middle;\n",
       "    }\n",
       "\n",
       "    .dataframe tbody tr th {\n",
       "        vertical-align: top;\n",
       "    }\n",
       "\n",
       "    .dataframe thead th {\n",
       "        text-align: right;\n",
       "    }\n",
       "</style>\n",
       "<table border=\"1\" class=\"dataframe\">\n",
       "  <thead>\n",
       "    <tr style=\"text-align: right;\">\n",
       "      <th></th>\n",
       "      <th>Numero_transaccion</th>\n",
       "      <th>Tipo</th>\n",
       "      <th>Cuenta_origen</th>\n",
       "      <th>Cuenta_destino</th>\n",
       "      <th>Fecha</th>\n",
       "      <th>Monto</th>\n",
       "    </tr>\n",
       "  </thead>\n",
       "  <tbody>\n",
       "    <tr>\n",
       "      <th>0</th>\n",
       "      <td>888898</td>\n",
       "      <td>NaN</td>\n",
       "      <td>16200109 8256</td>\n",
       "      <td>16040426 9037</td>\n",
       "      <td>05-12-19</td>\n",
       "      <td>1822</td>\n",
       "    </tr>\n",
       "    <tr>\n",
       "      <th>1</th>\n",
       "      <td>347027</td>\n",
       "      <td>prestamo</td>\n",
       "      <td>16401018 5843</td>\n",
       "      <td>16710220 6021</td>\n",
       "      <td>23-12-20</td>\n",
       "      <td>1457</td>\n",
       "    </tr>\n",
       "    <tr>\n",
       "      <th>2</th>\n",
       "      <td>250910</td>\n",
       "      <td>transferencia</td>\n",
       "      <td>16990212 7225</td>\n",
       "      <td>16750528 0250</td>\n",
       "      <td>16-11-20</td>\n",
       "      <td>7964</td>\n",
       "    </tr>\n",
       "    <tr>\n",
       "      <th>3</th>\n",
       "      <td>516273</td>\n",
       "      <td>extraccion</td>\n",
       "      <td>16770709 8138</td>\n",
       "      <td>16030909 2153</td>\n",
       "      <td>19-07-21</td>\n",
       "      <td>5887</td>\n",
       "    </tr>\n",
       "    <tr>\n",
       "      <th>4</th>\n",
       "      <td>187540</td>\n",
       "      <td>extraccion</td>\n",
       "      <td>16931129 8997</td>\n",
       "      <td>16201216 7538</td>\n",
       "      <td>22-05-21</td>\n",
       "      <td>4862</td>\n",
       "    </tr>\n",
       "  </tbody>\n",
       "</table>\n",
       "</div>"
      ],
      "text/plain": [
       "   Numero_transaccion           Tipo  Cuenta_origen Cuenta_destino     Fecha  \\\n",
       "0              888898            NaN  16200109 8256  16040426 9037  05-12-19   \n",
       "1              347027       prestamo  16401018 5843  16710220 6021  23-12-20   \n",
       "2              250910  transferencia  16990212 7225  16750528 0250  16-11-20   \n",
       "3              516273     extraccion  16770709 8138  16030909 2153  19-07-21   \n",
       "4              187540     extraccion  16931129 8997  16201216 7538  22-05-21   \n",
       "\n",
       "   Monto  \n",
       "0   1822  \n",
       "1   1457  \n",
       "2   7964  \n",
       "3   5887  \n",
       "4   4862  "
      ]
     },
     "execution_count": 68,
     "metadata": {},
     "output_type": "execute_result"
    }
   ],
   "source": [
    "transacciones_bancarias_df = pd.read_csv('Datasets/TransaccionesBancos.csv')\n",
    "transacciones_bancarias_df.head()"
   ]
  },
  {
   "cell_type": "markdown",
   "metadata": {},
   "source": [
    "**Validar que todas las transacciones cuenten con un tipo de transacción.**"
   ]
  },
  {
   "cell_type": "code",
   "execution_count": 69,
   "metadata": {},
   "outputs": [
    {
     "data": {
      "text/plain": [
       "False    81\n",
       "True     19\n",
       "Name: Tipo, dtype: int64"
      ]
     },
     "execution_count": 69,
     "metadata": {},
     "output_type": "execute_result"
    }
   ],
   "source": [
    "transacciones_bancarias_df['Tipo'].isnull().value_counts()"
   ]
  },
  {
   "cell_type": "markdown",
   "metadata": {},
   "source": [
    "Hay 19 transacciones que estarian sin un tipo"
   ]
  },
  {
   "cell_type": "markdown",
   "metadata": {},
   "source": [
    "*Saco los valores nulos*"
   ]
  },
  {
   "cell_type": "code",
   "execution_count": 70,
   "metadata": {},
   "outputs": [],
   "source": [
    "transacciones_bancarias_df.dropna(inplace = True)"
   ]
  },
  {
   "cell_type": "markdown",
   "metadata": {},
   "source": [
    "**Validar que para las transacciones del tipo transferencia, exista siempre tanto cuenta\n",
    "origen como cuenta destino**"
   ]
  },
  {
   "cell_type": "code",
   "execution_count": 71,
   "metadata": {
    "scrolled": true
   },
   "outputs": [
    {
     "data": {
      "text/plain": [
       "Cuenta_origen     False\n",
       "Cuenta_destino    False\n",
       "dtype: bool"
      ]
     },
     "execution_count": 71,
     "metadata": {},
     "output_type": "execute_result"
    }
   ],
   "source": [
    "es_transferencia = transacciones_bancarias_df['Tipo'].str.contains('transferencia')\n",
    "cuentas_de_transferencias = transacciones_bancarias_df.loc[es_transferencia,['Cuenta_origen','Cuenta_destino']]\n",
    "cuentas_de_transferencias.isnull().any()"
   ]
  },
  {
   "cell_type": "markdown",
   "metadata": {},
   "source": [
    "**Verificar que todas las transacciones del tipo transferencia, depósito y extracción\n",
    "cuenten con montos distintos de cero.**"
   ]
  },
  {
   "cell_type": "code",
   "execution_count": 72,
   "metadata": {
    "scrolled": true
   },
   "outputs": [],
   "source": [
    "extrac_depos_transf = transacciones_bancarias_df['Tipo'].str.contains('transferencia|extraccion|deposito',regex=True)"
   ]
  },
  {
   "cell_type": "code",
   "execution_count": 73,
   "metadata": {
    "scrolled": true
   },
   "outputs": [],
   "source": [
    "monto_s = transacciones_bancarias_df.loc[extrac_depos_transf, 'Monto']"
   ]
  },
  {
   "cell_type": "code",
   "execution_count": 74,
   "metadata": {},
   "outputs": [
    {
     "data": {
      "text/plain": [
       "True"
      ]
     },
     "execution_count": 74,
     "metadata": {},
     "output_type": "execute_result"
    }
   ],
   "source": [
    "(monto_s != 0).all()"
   ]
  },
  {
   "cell_type": "markdown",
   "metadata": {},
   "source": [
    "**Indicar cuáles fueron las 10 transacciones de mayor monto.**"
   ]
  },
  {
   "cell_type": "code",
   "execution_count": 75,
   "metadata": {},
   "outputs": [
    {
     "data": {
      "text/html": [
       "<div>\n",
       "<style scoped>\n",
       "    .dataframe tbody tr th:only-of-type {\n",
       "        vertical-align: middle;\n",
       "    }\n",
       "\n",
       "    .dataframe tbody tr th {\n",
       "        vertical-align: top;\n",
       "    }\n",
       "\n",
       "    .dataframe thead th {\n",
       "        text-align: right;\n",
       "    }\n",
       "</style>\n",
       "<table border=\"1\" class=\"dataframe\">\n",
       "  <thead>\n",
       "    <tr style=\"text-align: right;\">\n",
       "      <th></th>\n",
       "      <th>Numero_transaccion</th>\n",
       "      <th>Tipo</th>\n",
       "      <th>Cuenta_origen</th>\n",
       "      <th>Cuenta_destino</th>\n",
       "      <th>Fecha</th>\n",
       "      <th>Monto</th>\n",
       "    </tr>\n",
       "  </thead>\n",
       "  <tbody>\n",
       "    <tr>\n",
       "      <th>46</th>\n",
       "      <td>85197</td>\n",
       "      <td>prestamo</td>\n",
       "      <td>16830129 9874</td>\n",
       "      <td>16040227 0367</td>\n",
       "      <td>07-04-21</td>\n",
       "      <td>9456</td>\n",
       "    </tr>\n",
       "    <tr>\n",
       "      <th>7</th>\n",
       "      <td>139301</td>\n",
       "      <td>deposito</td>\n",
       "      <td>16251229 2802</td>\n",
       "      <td>16990121 7803</td>\n",
       "      <td>06-05-20</td>\n",
       "      <td>9439</td>\n",
       "    </tr>\n",
       "    <tr>\n",
       "      <th>36</th>\n",
       "      <td>327012</td>\n",
       "      <td>deposito</td>\n",
       "      <td>16280307 4885</td>\n",
       "      <td>16610329 8607</td>\n",
       "      <td>14-04-21</td>\n",
       "      <td>9425</td>\n",
       "    </tr>\n",
       "    <tr>\n",
       "      <th>97</th>\n",
       "      <td>713763</td>\n",
       "      <td>extraccion</td>\n",
       "      <td>16101215 6723</td>\n",
       "      <td>16390215 7365</td>\n",
       "      <td>23-09-20</td>\n",
       "      <td>9297</td>\n",
       "    </tr>\n",
       "    <tr>\n",
       "      <th>98</th>\n",
       "      <td>369319</td>\n",
       "      <td>credito</td>\n",
       "      <td>16710109 8726</td>\n",
       "      <td>16541009 2828</td>\n",
       "      <td>02-03-21</td>\n",
       "      <td>9085</td>\n",
       "    </tr>\n",
       "    <tr>\n",
       "      <th>84</th>\n",
       "      <td>318181</td>\n",
       "      <td>extraccion</td>\n",
       "      <td>16610302 2684</td>\n",
       "      <td>16600206 7442</td>\n",
       "      <td>23-03-20</td>\n",
       "      <td>8723</td>\n",
       "    </tr>\n",
       "    <tr>\n",
       "      <th>99</th>\n",
       "      <td>482014</td>\n",
       "      <td>prestamo</td>\n",
       "      <td>16740905 8604</td>\n",
       "      <td>16691018 1830</td>\n",
       "      <td>19-07-20</td>\n",
       "      <td>8493</td>\n",
       "    </tr>\n",
       "    <tr>\n",
       "      <th>20</th>\n",
       "      <td>857734</td>\n",
       "      <td>transferencia</td>\n",
       "      <td>16301107 2968</td>\n",
       "      <td>16300319 2667</td>\n",
       "      <td>20-08-20</td>\n",
       "      <td>8159</td>\n",
       "    </tr>\n",
       "    <tr>\n",
       "      <th>81</th>\n",
       "      <td>960758</td>\n",
       "      <td>deposito</td>\n",
       "      <td>16740507 4761</td>\n",
       "      <td>16180103 0998</td>\n",
       "      <td>22-10-20</td>\n",
       "      <td>8159</td>\n",
       "    </tr>\n",
       "    <tr>\n",
       "      <th>39</th>\n",
       "      <td>364785</td>\n",
       "      <td>prestamo</td>\n",
       "      <td>16700314 5617</td>\n",
       "      <td>16481215 9376</td>\n",
       "      <td>22-08-21</td>\n",
       "      <td>8065</td>\n",
       "    </tr>\n",
       "  </tbody>\n",
       "</table>\n",
       "</div>"
      ],
      "text/plain": [
       "    Numero_transaccion           Tipo  Cuenta_origen Cuenta_destino     Fecha  \\\n",
       "46               85197       prestamo  16830129 9874  16040227 0367  07-04-21   \n",
       "7               139301       deposito  16251229 2802  16990121 7803  06-05-20   \n",
       "36              327012       deposito  16280307 4885  16610329 8607  14-04-21   \n",
       "97              713763     extraccion  16101215 6723  16390215 7365  23-09-20   \n",
       "98              369319        credito  16710109 8726  16541009 2828  02-03-21   \n",
       "84              318181     extraccion  16610302 2684  16600206 7442  23-03-20   \n",
       "99              482014       prestamo  16740905 8604  16691018 1830  19-07-20   \n",
       "20              857734  transferencia  16301107 2968  16300319 2667  20-08-20   \n",
       "81              960758       deposito  16740507 4761  16180103 0998  22-10-20   \n",
       "39              364785       prestamo  16700314 5617  16481215 9376  22-08-21   \n",
       "\n",
       "    Monto  \n",
       "46   9456  \n",
       "7    9439  \n",
       "36   9425  \n",
       "97   9297  \n",
       "98   9085  \n",
       "84   8723  \n",
       "99   8493  \n",
       "20   8159  \n",
       "81   8159  \n",
       "39   8065  "
      ]
     },
     "execution_count": 75,
     "metadata": {},
     "output_type": "execute_result"
    }
   ],
   "source": [
    "transacciones_bancarias_df.nlargest(10,'Monto')"
   ]
  },
  {
   "cell_type": "markdown",
   "metadata": {},
   "source": [
    "**Indicar cuál es el tipo de transacción que registra mayor monto promedio.**"
   ]
  },
  {
   "cell_type": "markdown",
   "metadata": {},
   "source": [
    "*Busco el monto promedio para cada tipo de transaccion*"
   ]
  },
  {
   "cell_type": "code",
   "execution_count": 76,
   "metadata": {},
   "outputs": [],
   "source": [
    "transacciones_agrupadas = transacciones_bancarias_df.groupby(by='Tipo')"
   ]
  },
  {
   "cell_type": "code",
   "execution_count": 77,
   "metadata": {},
   "outputs": [
    {
     "data": {
      "text/plain": [
       "Tipo\n",
       "deposito    6409.31\n",
       "Name: Monto, dtype: float64"
      ]
     },
     "execution_count": 77,
     "metadata": {},
     "output_type": "execute_result"
    }
   ],
   "source": [
    "round(transacciones_agrupadas['Monto'].mean().nlargest(1),2)"
   ]
  },
  {
   "cell_type": "markdown",
   "metadata": {},
   "source": [
    "**Indicar cuáles son las 5 cuentas con mayor cantidad de transacciones.**"
   ]
  },
  {
   "cell_type": "code",
   "execution_count": 78,
   "metadata": {},
   "outputs": [],
   "source": [
    "cuentas_agrupadas = transacciones_bancarias_df.groupby(by='Cuenta_origen')"
   ]
  },
  {
   "cell_type": "code",
   "execution_count": 79,
   "metadata": {},
   "outputs": [
    {
     "data": {
      "text/plain": [
       "Cuenta_origen\n",
       "16001218 4446    1\n",
       "16030415 1004    1\n",
       "16030607 9484    1\n",
       "16050121 6246    1\n",
       "16060202 6684    1\n",
       "Name: Numero_transaccion, dtype: int64"
      ]
     },
     "execution_count": 79,
     "metadata": {},
     "output_type": "execute_result"
    }
   ],
   "source": [
    "cuentas_agrupadas['Numero_transaccion'].count().nlargest(5) # En este caso son todos 1 :/"
   ]
  },
  {
   "cell_type": "markdown",
   "metadata": {},
   "source": [
    "**Indicar cuáles son las 5 cuentas con mayor monto involucrado.**"
   ]
  },
  {
   "cell_type": "code",
   "execution_count": 80,
   "metadata": {},
   "outputs": [
    {
     "data": {
      "text/plain": [
       "Cuenta_origen\n",
       "16830129 9874    9456\n",
       "16251229 2802    9439\n",
       "16280307 4885    9425\n",
       "16101215 6723    9297\n",
       "16710109 8726    9085\n",
       "Name: Monto, dtype: int64"
      ]
     },
     "execution_count": 80,
     "metadata": {},
     "output_type": "execute_result"
    }
   ],
   "source": [
    "cuentas_agrupadas['Monto'].sum().nlargest(5)"
   ]
  },
  {
   "cell_type": "markdown",
   "metadata": {},
   "source": [
    "**Para el tipo de transacción con mayor cantidad de monto promedio, indicar cuales son\n",
    "las 5 cuentas con más transacciones.**"
   ]
  },
  {
   "cell_type": "code",
   "execution_count": 81,
   "metadata": {},
   "outputs": [
    {
     "data": {
      "text/html": [
       "<div>\n",
       "<style scoped>\n",
       "    .dataframe tbody tr th:only-of-type {\n",
       "        vertical-align: middle;\n",
       "    }\n",
       "\n",
       "    .dataframe tbody tr th {\n",
       "        vertical-align: top;\n",
       "    }\n",
       "\n",
       "    .dataframe thead th {\n",
       "        text-align: right;\n",
       "    }\n",
       "</style>\n",
       "<table border=\"1\" class=\"dataframe\">\n",
       "  <thead>\n",
       "    <tr style=\"text-align: right;\">\n",
       "      <th></th>\n",
       "      <th>Cuenta_origen</th>\n",
       "      <th>Monto</th>\n",
       "    </tr>\n",
       "  </thead>\n",
       "  <tbody>\n",
       "    <tr>\n",
       "      <th>7</th>\n",
       "      <td>16251229 2802</td>\n",
       "      <td>9439</td>\n",
       "    </tr>\n",
       "    <tr>\n",
       "      <th>36</th>\n",
       "      <td>16280307 4885</td>\n",
       "      <td>9425</td>\n",
       "    </tr>\n",
       "    <tr>\n",
       "      <th>81</th>\n",
       "      <td>16740507 4761</td>\n",
       "      <td>8159</td>\n",
       "    </tr>\n",
       "    <tr>\n",
       "      <th>42</th>\n",
       "      <td>16470214 7176</td>\n",
       "      <td>7578</td>\n",
       "    </tr>\n",
       "    <tr>\n",
       "      <th>88</th>\n",
       "      <td>16631114 8958</td>\n",
       "      <td>6487</td>\n",
       "    </tr>\n",
       "  </tbody>\n",
       "</table>\n",
       "</div>"
      ],
      "text/plain": [
       "    Cuenta_origen  Monto\n",
       "7   16251229 2802   9439\n",
       "36  16280307 4885   9425\n",
       "81  16740507 4761   8159\n",
       "42  16470214 7176   7578\n",
       "88  16631114 8958   6487"
      ]
     },
     "execution_count": 81,
     "metadata": {},
     "output_type": "execute_result"
    }
   ],
   "source": [
    "transaccion_mayor_monto_promedio_s = transacciones_agrupadas['Monto'].mean().nlargest(1)\n",
    "\n",
    "trans_del_mayor_monto_promedio = transacciones_bancarias_df['Tipo'].str.contains(transaccion_mayor_monto_promedio_s.index[0])\n",
    "\n",
    "transacciones_bancarias_df.loc[trans_del_mayor_monto_promedio,['Cuenta_origen','Monto']].nlargest(5,'Monto')\n"
   ]
  },
  {
   "cell_type": "code",
   "execution_count": null,
   "metadata": {},
   "outputs": [],
   "source": []
  }
 ],
 "metadata": {
  "kernelspec": {
   "display_name": "Python 3",
   "language": "python",
   "name": "python3"
  },
  "language_info": {
   "codemirror_mode": {
    "name": "ipython",
    "version": 3
   },
   "file_extension": ".py",
   "mimetype": "text/x-python",
   "name": "python",
   "nbconvert_exporter": "python",
   "pygments_lexer": "ipython3",
   "version": "3.8.3"
  }
 },
 "nbformat": 4,
 "nbformat_minor": 4
}
